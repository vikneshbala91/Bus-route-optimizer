{
 "cells": [
  {
   "cell_type": "code",
   "execution_count": 1,
   "metadata": {},
   "outputs": [],
   "source": [
    "import pandas as pd\n",
    "import numpy as np\n",
    "import random"
   ]
  },
  {
   "cell_type": "code",
   "execution_count": 2,
   "metadata": {},
   "outputs": [],
   "source": [
    "ca_tsp = pd.read_csv(\"CA_TSP.csv\")\n",
    "city_matrix = pd.read_csv(\"city_matrix.csv\")\n",
    "city_matrix.index = city_matrix[\"Unnamed: 0\"]\n",
    "city_matrix.drop(\"Unnamed: 0\",axis=1,inplace=True)"
   ]
  },
  {
   "cell_type": "code",
   "execution_count": 3,
   "metadata": {},
   "outputs": [
    {
     "name": "stdout",
     "output_type": "stream",
     "text": [
      "top_city ['Q' 'N' 'X' 'T' 'E' 'D' 'U' 'A' 'R' 'L']\n",
      "oth_city ['W' 'V' 'O' 'S' 'Y' 'J' 'H' 'P' 'G' 'F' 'B' 'M' 'K' 'I' 'C']\n"
     ]
    }
   ],
   "source": [
    "top_city = np.array(ca_tsp.sort_values(\"Population\",ascending=False).City[:10])\n",
    "oth_city = np.array(ca_tsp.sort_values(\"Population\",ascending=False).City[10:])\n",
    "print(\"top_city\",top_city)\n",
    "print(\"oth_city\",oth_city)"
   ]
  },
  {
   "cell_type": "code",
   "execution_count": 4,
   "metadata": {},
   "outputs": [],
   "source": [
    "max_nodes = 8\n",
    "max_dist = 400"
   ]
  },
  {
   "cell_type": "code",
   "execution_count": 5,
   "metadata": {},
   "outputs": [],
   "source": [
    "def route_dist(route,city_matrix):\n",
    "    dist = 0\n",
    "    for r in route:\n",
    "        if r != route[0]:\n",
    "            dist = dist + city_matrix.loc[r,route[0]]\n",
    "    return dist"
   ]
  },
  {
   "cell_type": "code",
   "execution_count": 6,
   "metadata": {},
   "outputs": [],
   "source": [
    "def cover_all_city(route_set):\n",
    "    unlist_parent = [list(i) for i in route_set]\n",
    "    t = []\n",
    "    for i in unlist_parent:\n",
    "        t = t + i\n",
    "    if len(set(t)) == 25:\n",
    "        return True\n",
    "    else:\n",
    "        return False"
   ]
  },
  {
   "cell_type": "raw",
   "metadata": {},
   "source": [
    "# Initial population of 100 parents is created\n",
    "# Each parent consist of 10 routes. parent is also known as route-set\n",
    "# top 10 populated cities are chosen as the starting node for the 10 routes in every parent/route-set (fixed for all parents)\n",
    "# using simple heuristics, 7 nearest cities of every starting node is chosen to form the routes\n",
    "# Above comprises - first parent if it satisfies the two conditions mentioned at the bottom\n",
    "# all other parents in population will be created randomnly but satisfying below two conditions\n",
    "# condition-1: each route covering max of 8 cities or travelling max of 400 km\n",
    "# condition-2: each route-set/parent covers all 25 cities"
   ]
  },
  {
   "cell_type": "code",
   "execution_count": 7,
   "metadata": {},
   "outputs": [],
   "source": [
    "def create_initial_population(top_city,city_matrix,ca_tsp,seed_num,pop_size):\n",
    "    initial_pop=[]\n",
    "# not intersted in creating parent-1, \n",
    "# can comment next five lines and use range(pop_size) instead of range(pop_size-1)\n",
    "    parent1=[]\n",
    "    for i in top_city:\n",
    "        parent1.append(i+city_matrix[i].sort_values()[1:8].index.values.sum())\n",
    "    initial_pop.append(parent1)\n",
    "    random.seed(seed_num)\n",
    "#     for n in range(pop_size):\n",
    "    for n in range(pop_size-1):\n",
    "        while True:\n",
    "            parent = []\n",
    "            for i in top_city:\n",
    "                city_list = list(ca_tsp.City)\n",
    "                city_list.remove(i)\n",
    "                while True:\n",
    "                    gen_route = i+np.array(random.sample(set(city_list),7),dtype='object').sum()\n",
    "                    if route_dist(gen_route,city_matrix) <= max_dist:\n",
    "                        break\n",
    "                parent.append(gen_route)\n",
    "            if cover_all_city(parent):\n",
    "                initial_pop.append(parent)\n",
    "                break    \n",
    "    return initial_pop"
   ]
  },
  {
   "cell_type": "code",
   "execution_count": 8,
   "metadata": {},
   "outputs": [],
   "source": [
    "population = create_initial_population(top_city,city_matrix,ca_tsp,8,100)"
   ]
  },
  {
   "cell_type": "code",
   "execution_count": null,
   "metadata": {},
   "outputs": [],
   "source": []
  },
  {
   "cell_type": "code",
   "execution_count": null,
   "metadata": {},
   "outputs": [],
   "source": []
  },
  {
   "cell_type": "code",
   "execution_count": null,
   "metadata": {},
   "outputs": [],
   "source": []
  },
  {
   "cell_type": "code",
   "execution_count": null,
   "metadata": {},
   "outputs": [],
   "source": []
  }
 ],
 "metadata": {
  "kernelspec": {
   "display_name": "Python 3",
   "language": "python",
   "name": "python3"
  },
  "language_info": {
   "codemirror_mode": {
    "name": "ipython",
    "version": 3
   },
   "file_extension": ".py",
   "mimetype": "text/x-python",
   "name": "python",
   "nbconvert_exporter": "python",
   "pygments_lexer": "ipython3",
   "version": "3.6.5"
  }
 },
 "nbformat": 4,
 "nbformat_minor": 2
}
