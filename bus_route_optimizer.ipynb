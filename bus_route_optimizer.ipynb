{
 "cells": [
  {
   "cell_type": "code",
   "execution_count": 1,
   "metadata": {},
   "outputs": [],
   "source": [
    "import pandas as pd\n",
    "import numpy as np\n",
    "import random\n",
    "import matplotlib.pyplot as plt"
   ]
  },
  {
   "cell_type": "code",
   "execution_count": 2,
   "metadata": {},
   "outputs": [],
   "source": [
    "ca_tsp = pd.read_csv(\"CA_TSP.csv\")\n",
    "city_matrix = pd.read_csv(\"city_matrix.csv\")\n",
    "city_matrix.index = city_matrix[\"Unnamed: 0\"]\n",
    "city_matrix.drop(\"Unnamed: 0\",axis=1,inplace=True)\n",
    "city_matrix = city_matrix/10"
   ]
  },
  {
   "cell_type": "code",
   "execution_count": 3,
   "metadata": {},
   "outputs": [
    {
     "name": "stdout",
     "output_type": "stream",
     "text": [
      "top_city ['Q' 'N' 'X' 'T' 'E' 'D' 'U' 'A' 'R' 'L']\n",
      "oth_city ['W' 'V' 'O' 'S' 'Y' 'J' 'H' 'P' 'G' 'F' 'B' 'M' 'K' 'I' 'C']\n"
     ]
    }
   ],
   "source": [
    "top_city = np.array(ca_tsp.sort_values(\"Population\",ascending=False).City[:10])\n",
    "oth_city = np.array(ca_tsp.sort_values(\"Population\",ascending=False).City[10:])\n",
    "print(\"top_city\",top_city)\n",
    "print(\"oth_city\",oth_city)"
   ]
  },
  {
   "cell_type": "code",
   "execution_count": 4,
   "metadata": {},
   "outputs": [],
   "source": [
    "def route_dist(route,city_matrix):\n",
    "    dist = 0\n",
    "    for r in range(len(route)):\n",
    "#         if r != route[0]:\n",
    "        if r != 0:\n",
    "            dist = dist + city_matrix.loc[route[r],route[r-1]]\n",
    "    return dist"
   ]
  },
  {
   "cell_type": "code",
   "execution_count": 5,
   "metadata": {},
   "outputs": [],
   "source": [
    "def cover_all_city(route_set):\n",
    "    unlist_parent = [list(i) for i in route_set]\n",
    "    t = []\n",
    "    for i in unlist_parent:\n",
    "        t = t + i\n",
    "    if len(set(t)) == 25:\n",
    "        return True\n",
    "    else:\n",
    "        return False"
   ]
  },
  {
   "cell_type": "code",
   "execution_count": 6,
   "metadata": {},
   "outputs": [],
   "source": [
    "def population_covered(route_set,ca_tsp):\n",
    "    unlist_parent = [list(i) for i in route_set]\n",
    "    t = []\n",
    "    for i in unlist_parent:\n",
    "        t = t + i\n",
    "    tot_dist = 0\n",
    "    for city in t:\n",
    "        tot_dist = tot_dist + ca_tsp.loc[ca_tsp.City == city,\"Population\"].values[0]\n",
    "    return tot_dist"
   ]
  },
  {
   "cell_type": "code",
   "execution_count": 7,
   "metadata": {},
   "outputs": [],
   "source": [
    "def dist_bw_petrol(route,city_matrix,ca_tsp,petrol_max_dist):\n",
    "    dist = 0\n",
    "    for r in range(len(route)):\n",
    "        if r != 0:\n",
    "            dist = dist + city_matrix.loc[route[r],route[r-1]]\n",
    "            if dist > petrol_max_dist: break\n",
    "            if r != len(route)-1 and ca_tsp.loc[ca_tsp.City == route[r],\"Has_petrol\"].values[0]: dist = 0 \n",
    "    return dist"
   ]
  },
  {
   "cell_type": "raw",
   "metadata": {},
   "source": [
    "# Initial population of 100 parents is created\n",
    "# Each parent consist of 10 routes. parent is also known as route-set\n",
    "# top 10 populated cities are chosen as the starting node for the 10 routes in every parent/route-set (fixed for all parents)\n",
    "# using simple heuristics, 7 nearest cities of every starting node is chosen to form the routes\n",
    "# Above comprises - first parent if it satisfies the two conditions mentioned at the bottom\n",
    "# all other parents in population will be created randomnly but satisfying below two conditions\n",
    "# condition-1: each route covering max of 8 cities or travelling max of 400 km\n",
    "# condition-2: each route-set/parent covers all 25 cities"
   ]
  },
  {
   "cell_type": "code",
   "execution_count": 8,
   "metadata": {},
   "outputs": [],
   "source": [
    "# def create_initial_population(city_matrix,ca_tsp,route_num,seed_num,pop_size):\n",
    "#     initial_pop=[]\n",
    "# # not intersted in creating parent-1, \n",
    "# # can comment next five lines and use range(pop_size) instead of range(pop_size-1)\n",
    "#     parent1=[]\n",
    "#     top_city = np.array(ca_tsp.sort_values(\"Population\",ascending=False).City[:route_num])\n",
    "#     for i in top_city:\n",
    "#         parent1.append(i+city_matrix[i].sort_values()[1:8].index.values.sum())\n",
    "#     initial_pop.append(parent1)\n",
    "#     random.seed(seed_num)\n",
    "# #     for n in range(pop_size):\n",
    "#     for n in range(pop_size-1):\n",
    "#         while True:\n",
    "#             parent = []\n",
    "#             for i in top_city:\n",
    "#                 city_list = list(ca_tsp.City)\n",
    "#                 city_list.remove(i)\n",
    "#                 while True:\n",
    "#                     gen_route = i+np.array(random.sample(set(city_list),7),dtype='object').sum()\n",
    "#                     if route_dist(gen_route,city_matrix) <= max_dist:\n",
    "#                         break\n",
    "#                 parent.append(gen_route)\n",
    "#             if cover_all_city(parent):\n",
    "#                 initial_pop.append(parent)\n",
    "#                 break    \n",
    "#     return initial_pop"
   ]
  },
  {
   "cell_type": "code",
   "execution_count": 9,
   "metadata": {},
   "outputs": [],
   "source": [
    "# No fixed city in the first position\n",
    "def create_initial_population(city_matrix,ca_tsp,route_num,seed_num,pop_size):\n",
    "    initial_pop=[]\n",
    "# not intersted in creating parent-1, \n",
    "# can comment next five lines and use range(pop_size) instead of range(pop_size-1)\n",
    "#     parent1=[]\n",
    "#     top_city = np.array(ca_tsp.sort_values(\"Population\",ascending=False).City[:route_num])\n",
    "#     for i in top_city:\n",
    "#         parent1.append(i+city_matrix[i].sort_values()[1:8].index.values.sum())\n",
    "#     initial_pop.append(parent1)\n",
    "#     random.seed(seed_num)\n",
    "    for n in range(pop_size):\n",
    "#     for n in range(pop_size-1):\n",
    "        while True:\n",
    "            parent = []\n",
    "#             for i in top_city:\n",
    "            for i in range(route_num):\n",
    "                city_list = list(ca_tsp.City)\n",
    "#                 city_list.remove(i)\n",
    "                while True:\n",
    "#                     gen_route = i+np.array(random.sample(set(city_list),7),dtype='object').sum()\n",
    "                    gen_route = np.array(random.sample(set(city_list),8),dtype='object').sum()\n",
    "                    if route_dist(gen_route,city_matrix) <= max_dist:\n",
    "                        break\n",
    "                parent.append(gen_route)\n",
    "            if cover_all_city(parent):\n",
    "                initial_pop.append(parent)\n",
    "                break    \n",
    "    return initial_pop"
   ]
  },
  {
   "cell_type": "code",
   "execution_count": 10,
   "metadata": {},
   "outputs": [],
   "source": [
    "def fitness_function(route_set,city_matrix,ca_tsp,petrol_max_dist):\n",
    "    less_eq_max_dist = True\n",
    "    for r in route_set:\n",
    "        if route_dist(r,city_matrix) > max_dist:\n",
    "            less_eq_max_dist = False\n",
    "            break    \n",
    "    dist_travel = [route_dist(route,city_matrix) for route in route_set]\n",
    "    petrol_dist = [dist_bw_petrol(route,city_matrix,ca_tsp,petrol_max_dist) for route in route_set]   \n",
    "    if cover_all_city(route_set) and less_eq_max_dist and max(petrol_dist) <= petrol_max_dist:\n",
    "        fitness = population_covered(route_set,ca_tsp) - round(sum(dist_travel),1)\n",
    "        return fitness\n",
    "    else:\n",
    "        return -10000"
   ]
  },
  {
   "cell_type": "code",
   "execution_count": 11,
   "metadata": {},
   "outputs": [],
   "source": [
    "# test_city_matrix = city_matrix/10\n",
    "# test_route_set = ['VYATNRDX', 'NXYRDEPU', 'TOFIKNLC', 'FNXQBWTL', 'EUSGPQXN', 'JXRWQSNV', 'YRNEVGQW', 'BRUXATVI', 'XDRQPYAO', 'RVDHTNMP']\n",
    "# t = [route_dist(r,test_city_matrix) for r in test_route_set]\n",
    "# #     if route_dist(r,city_matrix) > max_dist:\n",
    "# #         less_eq_max_dist = False\n",
    "# #         break      \n",
    "# print(t)\n",
    "# round(sum(t),1)"
   ]
  },
  {
   "cell_type": "code",
   "execution_count": 12,
   "metadata": {},
   "outputs": [],
   "source": [
    "def inter_crossover(population,pop_size,route_num):\n",
    "    random.seed(seed_num)\n",
    "    inter_cross_off = []\n",
    "#     print(len(population))\n",
    "    t = random.sample(set(map(tuple,population)),100)\n",
    "    for i in range(0,pop_size,2):\n",
    "        #parent1 \n",
    "        p1_idx = i%pop_size\n",
    "        #parent2\n",
    "        p2_idx = (i+1)%pop_size\n",
    "        cut_pt1 = random.randint(0,5)\n",
    "        cut_pt2 = cut_pt1 + route_num//2\n",
    "        inter_off1 = t[p1_idx][0:cut_pt1] + t[p2_idx][cut_pt1:cut_pt2] + t[p1_idx][cut_pt2:]\n",
    "        inter_off2 = t[p2_idx][0:cut_pt1] + t[p1_idx][cut_pt1:cut_pt2] + t[p2_idx][cut_pt2:]\n",
    "        inter_cross_off.append(list(inter_off1))\n",
    "        inter_cross_off.append(list(inter_off2))\n",
    "    return inter_cross_off"
   ]
  },
  {
   "cell_type": "code",
   "execution_count": 13,
   "metadata": {},
   "outputs": [],
   "source": [
    "def non_repeat_nodes(route):\n",
    "    len1 = len(set([i for i in route]))\n",
    "    if len1 == 8:\n",
    "        return True\n",
    "    else:\n",
    "        return False"
   ]
  },
  {
   "cell_type": "code",
   "execution_count": 14,
   "metadata": {},
   "outputs": [],
   "source": [
    "def intra_crossover(m,max_nodes):\n",
    "    intra_cross_off = []\n",
    "#     m = 3\n",
    "    for i in (inter_cross_off * m):\n",
    "        while True:\n",
    "            t = list(i)\n",
    "            r = random.sample(range(max_nodes),2)\n",
    "    #         print(rand_idx)\n",
    "            temp_route1 = t[r[0]]\n",
    "    #         print(temp_route1)\n",
    "            temp_route2 = t[r[1]]\n",
    "    #         print(temp_route2)\n",
    "#             cut_pt1 = random.randint(1,4)\n",
    "            cut_pt1 = random.randint(0,4) # allowing to change the first positioned city as well\n",
    "    #         print(cut_pt1)\n",
    "            cut_pt2 = cut_pt1 + max_nodes//2\n",
    "            temp_route1 = t[r[0]][0:cut_pt1] + t[r[1]][cut_pt1:cut_pt2] + t[r[0]][cut_pt2:]\n",
    "            temp_route2 = t[r[1]][0:cut_pt1] + t[r[0]][cut_pt1:cut_pt2] + t[r[1]][cut_pt2:]\n",
    "            if non_repeat_nodes(temp_route1) and non_repeat_nodes(temp_route2):\n",
    "                t[r[0]] = temp_route1\n",
    "                t[r[1]] = temp_route2\n",
    "                intra_cross_off.append(t)\n",
    "    #             print(t[r[0]])\n",
    "    #             print(t[r[1]])\n",
    "                break\n",
    "    return intra_cross_off"
   ]
  },
  {
   "cell_type": "code",
   "execution_count": 15,
   "metadata": {},
   "outputs": [],
   "source": [
    "# mutation\n",
    "def mutation(crossover_offspring,mutation_rate,max_nodes,ca_tsp):\n",
    "    mutated_offspring = []\n",
    "    for idx in range(len(crossover_offspring)):\n",
    "        crossover_offspring[idx] = list(crossover_offspring[idx])\n",
    "        for gene_num in range(len(crossover_offspring[idx])):\n",
    "            if random.random() < mutation_rate:\n",
    "                while True:\n",
    "#                     mut_pt = random.randint(1,max_nodes-1)\n",
    "                    mut_pt = random.randint(0,max_nodes-1) # allowing to change the first positioned city as well\n",
    "                    temp = list(crossover_offspring[idx][gene_num])\n",
    "                    temp[mut_pt] = random.choice(list(ca_tsp.City))\n",
    "                    temp = ''.join(temp)\n",
    "                    if non_repeat_nodes(temp):\n",
    "                        crossover_offspring[idx][gene_num] = temp\n",
    "                        break\n",
    "        mutated_offspring.append(crossover_offspring[idx])    \n",
    "    return mutated_offspring"
   ]
  },
  {
   "cell_type": "code",
   "execution_count": 16,
   "metadata": {},
   "outputs": [],
   "source": [
    "def rankroutes(group_population,city_matrix,ca_tsp,petrol_max_dist):\n",
    "    fitness_results = []\n",
    "    for i in range(0,len(group_population)):\n",
    "        route_set = group_population[i]\n",
    "        fitness_results.append([i,fitness_function(route_set,city_matrix,ca_tsp,petrol_max_dist)])\n",
    "    fitness_df = pd.DataFrame(fitness_results,columns=[\"Index\",\"Fitness\"])\n",
    "    fitness_df = fitness_df.sort_values(\"Fitness\",ascending=False)\n",
    "    return fitness_df"
   ]
  },
  {
   "cell_type": "code",
   "execution_count": 17,
   "metadata": {},
   "outputs": [],
   "source": [
    "def selection(ranked_fitness,pop_size,group_population):\n",
    "    new_gen_population = []\n",
    "    rank_idx = 0\n",
    "    while len(set(map(tuple,new_gen_population))) < pop_size:\n",
    "        new_gen_population.append(group_population[ranked_fitness.iloc[rank_idx,0]])\n",
    "        rank_idx += 1\n",
    "    return new_gen_population"
   ]
  },
  {
   "cell_type": "code",
   "execution_count": 18,
   "metadata": {},
   "outputs": [],
   "source": [
    "def ind_fitness_values(route_set,city_matrix,ca_tsp,petrol_max_dist):\n",
    "    less_eq_max_dist = True\n",
    "    for r in route_set:\n",
    "        if route_dist(r,city_matrix) > max_dist:\n",
    "            less_eq_max_dist = False\n",
    "            break    \n",
    "    dist_travel = [route_dist(route,city_matrix) for route in route_set]\n",
    "    petrol_dist = [dist_bw_petrol(route,city_matrix,ca_tsp,petrol_max_dist) for route in route_set]   \n",
    "    if cover_all_city(route_set) and less_eq_max_dist and max(petrol_dist) <= petrol_max_dist:\n",
    "        x = population_covered(route_set,ca_tsp)\n",
    "        y = round(sum(dist_travel),1)\n",
    "        fitness = x - y\n",
    "    else:\n",
    "        x = population_covered(route_set,ca_tsp)\n",
    "        y = round(sum(dist_travel),1)\n",
    "        fitness = -10000\n",
    "    return fitness,x,y"
   ]
  },
  {
   "cell_type": "code",
   "execution_count": 19,
   "metadata": {},
   "outputs": [
    {
     "name": "stdout",
     "output_type": "stream",
     "text": [
      "Initial best route:  ['VHJTAISO', 'DUWYOBCS', 'CIUKAQWV', 'YXGLNBAF', 'FSDGUXJM', 'QHCXRNAK', 'EJMXAIHP', 'RPDWLNOY', 'ICRBFNQS', 'GLAFJXDU']\n",
      "Initial best fitness:  1890.6\n",
      "Initial best population:  2219\n",
      "Initial best distance:  328.4\n"
     ]
    }
   ],
   "source": [
    "max_nodes = 8\n",
    "max_dist = 40\n",
    "route_num=10\n",
    "seed_num=143\n",
    "pop_size=100\n",
    "m=3\n",
    "mutation_rate = 0.07\n",
    "gen = 100\n",
    "petrol_max_dist = 20.0\n",
    "population = create_initial_population(city_matrix, ca_tsp, route_num, seed_num, pop_size)\n",
    "best_route = population[rankroutes(population,city_matrix,ca_tsp,petrol_max_dist).iloc[0,0]]\n",
    "best_fitness, best_pop, best_dist = ind_fitness_values(best_route,city_matrix,ca_tsp,petrol_max_dist)\n",
    "# best_fitness = rankroutes(population,city_matrix,ca_tsp,petrol_max_dist).iloc[0,1]\n",
    "print(\"Initial best route: \" , best_route)\n",
    "print(\"Initial best fitness: \" , best_fitness)\n",
    "print(\"Initial best population: \" , best_pop)\n",
    "print(\"Initial best distance: \" , best_dist)"
   ]
  },
  {
   "cell_type": "code",
   "execution_count": 20,
   "metadata": {},
   "outputs": [
    {
     "data": {
      "text/html": [
       "<div>\n",
       "<style scoped>\n",
       "    .dataframe tbody tr th:only-of-type {\n",
       "        vertical-align: middle;\n",
       "    }\n",
       "\n",
       "    .dataframe tbody tr th {\n",
       "        vertical-align: top;\n",
       "    }\n",
       "\n",
       "    .dataframe thead th {\n",
       "        text-align: right;\n",
       "    }\n",
       "</style>\n",
       "<table border=\"1\" class=\"dataframe\">\n",
       "  <thead>\n",
       "    <tr style=\"text-align: right;\">\n",
       "      <th></th>\n",
       "      <th>Generation</th>\n",
       "      <th>Route</th>\n",
       "      <th>Fitness</th>\n",
       "      <th>Population</th>\n",
       "      <th>Distance</th>\n",
       "    </tr>\n",
       "  </thead>\n",
       "  <tbody>\n",
       "    <tr>\n",
       "      <th>0</th>\n",
       "      <td>0</td>\n",
       "      <td>[VHJTAISO, DUWYOBCS, CIUKAQWV, YXGLNBAF, FSDGU...</td>\n",
       "      <td>1890.6</td>\n",
       "      <td>2219</td>\n",
       "      <td>328.4</td>\n",
       "    </tr>\n",
       "  </tbody>\n",
       "</table>\n",
       "</div>"
      ],
      "text/plain": [
       "   Generation                                              Route  Fitness  \\\n",
       "0           0  [VHJTAISO, DUWYOBCS, CIUKAQWV, YXGLNBAF, FSDGU...   1890.6   \n",
       "\n",
       "   Population  Distance  \n",
       "0        2219     328.4  "
      ]
     },
     "execution_count": 20,
     "metadata": {},
     "output_type": "execute_result"
    }
   ],
   "source": [
    "# adding previous best path with fitness function 3063\n",
    "# population[0] =  ['QXDWNTOE', 'NSYETQXF', 'XQNETDUB', 'TXQJHNEL', 'EUNCVQXT', 'DLRNTQXU', 'UQNETXID', 'AERNDQXT', 'RXTNPQKM', 'LTGQDEXN']\n",
    "data = pd.DataFrame([[0, best_route, best_fitness, best_pop, best_dist]],columns=['Generation','Route','Fitness','Population','Distance'])\n",
    "data"
   ]
  },
  {
   "cell_type": "code",
   "execution_count": 21,
   "metadata": {},
   "outputs": [],
   "source": [
    "gen = 100\n",
    "for g in range(gen):\n",
    "    inter_cross_off = inter_crossover(population,pop_size,route_num)\n",
    "    intra_cross_off = intra_crossover(m,max_nodes)\n",
    "    crossover_offspring = inter_cross_off + intra_cross_off\n",
    "    group_population = population + crossover_offspring\n",
    "    mutated_offspring = mutation(group_population,mutation_rate,max_nodes,ca_tsp)\n",
    "    group_population = population + mutated_offspring\n",
    "    ranked_fitness = rankroutes(group_population,city_matrix,ca_tsp,petrol_max_dist)\n",
    "    new_gen_population = selection(ranked_fitness,pop_size,group_population)\n",
    "    df_len = len(data)\n",
    "    best_route = new_gen_population[0]\n",
    "    #best_fitness = ranked_fitness.iloc[0,1]\n",
    "    best_fitness, best_pop, best_dist = ind_fitness_values(best_route,city_matrix,ca_tsp,petrol_max_dist)\n",
    "    data.loc[df_len,'Generation'] = g+1\n",
    "    data.loc[df_len,'Route'] = str(best_route)\n",
    "    data.loc[df_len,'Fitness'] = best_fitness\n",
    "    data.loc[df_len,'Population'] = best_pop\n",
    "    data.loc[df_len,'Distance'] = best_dist    \n",
    "    population = list(set(map(tuple,new_gen_population)))"
   ]
  },
  {
   "cell_type": "code",
   "execution_count": null,
   "metadata": {},
   "outputs": [],
   "source": [
    "# Initial best fitness:  2442\n",
    "# Final best fitness:  3094"
   ]
  },
  {
   "cell_type": "code",
   "execution_count": 23,
   "metadata": {},
   "outputs": [
    {
     "data": {
      "text/plain": [
       "[<matplotlib.lines.Line2D at 0x1bb53711a58>]"
      ]
     },
     "execution_count": 23,
     "metadata": {},
     "output_type": "execute_result"
    },
    {
     "data": {
      "image/png": "[encoded data removed]",
      "text/plain": [
       "<Figure size 432x288 with 1 Axes>"
      ]
     },
     "metadata": {},
     "output_type": "display_data"
    }
   ],
   "source": [
    "plt.plot(data['Fitness'])"
   ]
  },
  {
   "cell_type": "code",
   "execution_count": 24,
   "metadata": {},
   "outputs": [
    {
     "data": {
      "text/plain": [
       "[<matplotlib.lines.Line2D at 0x1bb5379e400>]"
      ]
     },
     "execution_count": 24,
     "metadata": {},
     "output_type": "execute_result"
    },
    {
     "data": {
      "image/png": "[encoded data removed]",
      "text/plain": [
       "<Figure size 432x288 with 1 Axes>"
      ]
     },
     "metadata": {},
     "output_type": "display_data"
    }
   ],
   "source": [
    "plt.plot(data['Population'])"
   ]
  },
  {
   "cell_type": "code",
   "execution_count": 25,
   "metadata": {},
   "outputs": [
    {
     "data": {
      "text/plain": [
       "[<matplotlib.lines.Line2D at 0x1bb537f4c18>]"
      ]
     },
     "execution_count": 25,
     "metadata": {},
     "output_type": "execute_result"
    },
    {
     "data": {
      "image/png": "[encoded data removed]",
      "text/plain": [
       "<Figure size 432x288 with 1 Axes>"
      ]
     },
     "metadata": {},
     "output_type": "display_data"
    }
   ],
   "source": [
    "plt.plot(data['Distance'])"
   ]
  },
  {
   "cell_type": "code",
   "execution_count": 30,
   "metadata": {},
   "outputs": [
    {
     "data": {
      "text/plain": [
       "array([[100.0,\n",
       "        \"('NAEQRTXJ', 'EAKTXDQN', 'NAEQRTXD', 'UDQENXTR', 'QSCANXEV', 'NAEQXYMD', 'UDQENXHT', 'NIXTUDQE', 'LDUGQNXB', 'TOFQWPNX')\",\n",
       "        2783.4, 3062.0, 278.6]], dtype=object)"
      ]
     },
     "execution_count": 30,
     "metadata": {},
     "output_type": "execute_result"
    }
   ],
   "source": [
    "data.tail(1).values"
   ]
  },
  {
   "cell_type": "code",
   "execution_count": null,
   "metadata": {},
   "outputs": [],
   "source": [
    "# dummy_population = [['BNXTQEAK', 'THNSXLDQ', 'QDXTUECN', 'QEXTFUIN', 'PNXTLDGQ', 'ENXTURDQ', 'ENXTURDQ', 'QEXTRLNU', 'DWXYQMNT', 'XQOEVJAN'],\n",
    "#          ['QXDWNTOE', 'NSYETQXF', 'XQNETDUB', 'TXQJHNEL', 'EUNCVQXT', 'DLRNTQXU', 'UQNETXID', 'AERNDQXT', 'RXTNPQKM', 'LTGQDEXN']]"
   ]
  },
  {
   "cell_type": "code",
   "execution_count": null,
   "metadata": {},
   "outputs": [],
   "source": [
    "dummy_population = [['BNXTQEAK', 'THNSXLDQ', 'QDXTUECN', 'QEXTFUIN', 'PNXTLDGQ'],\n",
    "                    ['QXDWNTOE', 'NSYETQXF', 'XQNETDUB', 'TXQJHNEL', 'EUNCVQXT']]"
   ]
  },
  {
   "cell_type": "code",
   "execution_count": null,
   "metadata": {},
   "outputs": [],
   "source": [
    "\n",
    "random.seed(143)\n",
    "# inter_cross_off = []\n",
    "#     print(len(population))\n",
    "t = random.sample(set(map(tuple,dummy_population)),2)\n",
    "for i in range(0,2,2):\n",
    "    #parent1 \n",
    "    p1_idx = i%2\n",
    "    #parent2\n",
    "    p2_idx = (i+1)%2\n",
    "    cut_pt1 = random.randint(0,5)\n",
    "    cut_pt2 = cut_pt1 + 10//2\n",
    "    inter_off1 = t[p1_idx][0:cut_pt1] + t[p2_idx][cut_pt1:cut_pt2] + t[p1_idx][cut_pt2:]\n",
    "    inter_off2 = t[p2_idx][0:cut_pt1] + t[p1_idx][cut_pt1:cut_pt2] + t[p2_idx][cut_pt2:]\n",
    "#     inter_cross_off.append(list(inter_off1))\n",
    "#     inter_cross_off.append(list(inter_off2))\n",
    "    print(list(inter_off1))\n",
    "    print(list(inter_off2))"
   ]
  },
  {
   "cell_type": "code",
   "execution_count": null,
   "metadata": {},
   "outputs": [],
   "source": [
    "# def intra_crossover(m,max_nodes):\n",
    "#     intra_cross_off = []\n",
    "#     m = 3\n",
    "for i in (dummy_population * 3):\n",
    "    while True:\n",
    "        t = list(i)\n",
    "        r = random.sample(range(8),2)\n",
    "#         print(rand_idx)\n",
    "        temp_route1 = t[r[0]]\n",
    "#         print(temp_route1)\n",
    "        temp_route2 = t[r[1]]\n",
    "#         print(temp_route2)\n",
    "#             cut_pt1 = random.randint(1,4)\n",
    "        cut_pt1 = random.randint(0,4) # allowing to change the first positioned city as well\n",
    "#         print(cut_pt1)\n",
    "        cut_pt2 = cut_pt1 + 8//2\n",
    "        temp_route1 = t[r[0]][0:cut_pt1] + t[r[1]][cut_pt1:cut_pt2] + t[r[0]][cut_pt2:]\n",
    "        temp_route2 = t[r[1]][0:cut_pt1] + t[r[0]][cut_pt1:cut_pt2] + t[r[1]][cut_pt2:]\n",
    "        if non_repeat_nodes(temp_route1) and non_repeat_nodes(temp_route2):\n",
    "            t[r[0]] = temp_route1\n",
    "            t[r[1]] = temp_route2\n",
    "            print(t)\n",
    "#             print(t[r[0]])\n",
    "#             print(t[r[1]])\n",
    "            break\n",
    "#     return intra_cross_off"
   ]
  },
  {
   "cell_type": "code",
   "execution_count": 22,
   "metadata": {},
   "outputs": [
    {
     "ename": "NameError",
     "evalue": "name 'dummy_population' is not defined",
     "output_type": "error",
     "traceback": [
      "\u001b[1;31m---------------------------------------------------------------------------\u001b[0m",
      "\u001b[1;31mNameError\u001b[0m                                 Traceback (most recent call last)",
      "\u001b[1;32m<ipython-input-22-717456ec0816>\u001b[0m in \u001b[0;36m<module>\u001b[1;34m()\u001b[0m\n\u001b[0;32m      3\u001b[0m \u001b[1;31m#     mutated_offspring = []\u001b[0m\u001b[1;33m\u001b[0m\u001b[1;33m\u001b[0m\u001b[0m\n\u001b[0;32m      4\u001b[0m \u001b[1;33m\u001b[0m\u001b[0m\n\u001b[1;32m----> 5\u001b[1;33m \u001b[1;32mfor\u001b[0m \u001b[0midx\u001b[0m \u001b[1;32min\u001b[0m \u001b[0mrange\u001b[0m\u001b[1;33m(\u001b[0m\u001b[0mlen\u001b[0m\u001b[1;33m(\u001b[0m\u001b[0mdummy_population\u001b[0m\u001b[1;33m)\u001b[0m\u001b[1;33m)\u001b[0m\u001b[1;33m:\u001b[0m\u001b[1;33m\u001b[0m\u001b[0m\n\u001b[0m\u001b[0;32m      6\u001b[0m     \u001b[0mprint\u001b[0m\u001b[1;33m(\u001b[0m\u001b[0mdummy_population\u001b[0m\u001b[1;33m[\u001b[0m\u001b[0midx\u001b[0m\u001b[1;33m]\u001b[0m\u001b[1;33m)\u001b[0m\u001b[1;33m\u001b[0m\u001b[0m\n\u001b[0;32m      7\u001b[0m     \u001b[0mdummy_population\u001b[0m\u001b[1;33m[\u001b[0m\u001b[0midx\u001b[0m\u001b[1;33m]\u001b[0m \u001b[1;33m=\u001b[0m \u001b[0mlist\u001b[0m\u001b[1;33m(\u001b[0m\u001b[0mdummy_population\u001b[0m\u001b[1;33m[\u001b[0m\u001b[0midx\u001b[0m\u001b[1;33m]\u001b[0m\u001b[1;33m)\u001b[0m\u001b[1;33m\u001b[0m\u001b[0m\n",
      "\u001b[1;31mNameError\u001b[0m: name 'dummy_population' is not defined"
     ]
    }
   ],
   "source": [
    "# mutation\n",
    "# def mutation(crossover_offspring,mutation_rate,max_nodes,ca_tsp):\n",
    "#     mutated_offspring = []\n",
    "\n",
    "for idx in range(len(dummy_population)):\n",
    "\n",
    "    dummy_population[idx] = list(dummy_population[idx])\n",
    "    for gene_num in range(len(dummy_population[idx])):\n",
    "        if random.random() < 0.07:\n",
    "            while True:\n",
    "#                     mut_pt = random.randint(1,max_nodes-1)\n",
    "                mut_pt = random.randint(0,8-1) # allowing to change the first positioned city as well\n",
    "                temp = list(dummy_population[idx][gene_num])\n",
    "                temp[mut_pt] = random.choice(list(ca_tsp.City))\n",
    "                temp = ''.join(temp)\n",
    "                if non_repeat_nodes(temp):\n",
    "                    dummy_population[idx][gene_num] = temp\n",
    "                    break\n",
    "    print(dummy_population[idx])    \n",
    "#     return mutated_offspring"
   ]
  },
  {
   "cell_type": "code",
   "execution_count": null,
   "metadata": {},
   "outputs": [],
   "source": []
  }
 ],
 "metadata": {
  "kernelspec": {
   "display_name": "Python 3",
   "language": "python",
   "name": "python3"
  },
  "language_info": {
   "codemirror_mode": {
    "name": "ipython",
    "version": 3
   },
   "file_extension": ".py",
   "mimetype": "text/x-python",
   "name": "python",
   "nbconvert_exporter": "python",
   "pygments_lexer": "ipython3",
   "version": "3.6.5"
  }
 },
 "nbformat": 4,
 "nbformat_minor": 2
}
